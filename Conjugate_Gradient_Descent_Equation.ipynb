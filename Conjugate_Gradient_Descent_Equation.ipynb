{
  "nbformat": 4,
  "nbformat_minor": 0,
  "metadata": {
    "colab": {
      "name": "Conjugate_Gradient_Descent_Equation.ipynb",
      "provenance": [],
      "collapsed_sections": [],
      "authorship_tag": "ABX9TyOxU9Qu91ubA2ATx8WUgeUe",
      "include_colab_link": true
    },
    "kernelspec": {
      "name": "python3",
      "display_name": "Python 3"
    },
    "language_info": {
      "name": "python"
    }
  },
  "cells": [
    {
      "cell_type": "markdown",
      "metadata": {
        "id": "view-in-github",
        "colab_type": "text"
      },
      "source": [
        "<a href=\"https://colab.research.google.com/github/Nawapat2541/Conj_Grad_Desc_Equation_Solving/blob/main/Conjugate_Gradient_Descent_Equation.ipynb\" target=\"_parent\"><img src=\"https://colab.research.google.com/assets/colab-badge.svg\" alt=\"Open In Colab\"/></a>"
      ]
    },
    {
      "cell_type": "code",
      "metadata": {
        "id": "Tw5QFMLFmsLJ"
      },
      "source": [
        "import inspect as ins\n",
        "import numpy as np\n",
        "import math as m\n",
        "import matplotlib.pyplot as plt"
      ],
      "execution_count": 161,
      "outputs": []
    },
    {
      "cell_type": "code",
      "metadata": {
        "id": "CaGUKUfxyreP",
        "colab": {
          "base_uri": "https://localhost:8080/"
        },
        "outputId": "f4ce74c3-49b2-484a-ee65-59241c05dd6d"
      },
      "source": [
        "function = lambda x: x[0]**2 - 5*x[1] + 15\n",
        "#  x: x[0]**2 - 5*x[1] + 15\n",
        "print(derivative(function, [2, -6, -4, 0]))"
      ],
      "execution_count": 2,
      "outputs": [
        {
          "output_type": "stream",
          "name": "stdout",
          "text": [
            "[2.001, -6, -4, 0] [2, -6, -4, 0]\n",
            "[2, -5.999, -4, 0] [2, -6, -4, 0]\n",
            "[2, -6, -3.999, 0] [2, -6, -4, 0]\n",
            "[2, -6, -4, 0.001] [2, -6, -4, 0]\n",
            "[4.001000000002364, -5.000000000002558, 0.0, 0.0]\n"
          ]
        }
      ]
    },
    {
      "cell_type": "code",
      "metadata": {
        "id": "Epymalwx1sFj"
      },
      "source": [
        "def conj_gradient_descent(A, b, x0):\n",
        "    x = x0\n",
        "    list_x = []\n",
        "    r = b - np.matmul(A, x)\n",
        "    p = r\n",
        "    # print(f'p_trans = {p.transpose()}, p = {p}')\n",
        "    rsold = np.matmul(r.transpose(), r)\n",
        "\n",
        "    # print(f'b = {b}, range b = {range(len(b))}')\n",
        "\n",
        "    for i in range(len(b)):\n",
        "        list_x.append(x)\n",
        "        Ap = np.matmul(A, p)\n",
        "        alpha = rsold / np.matmul(p.transpose(), Ap)\n",
        "        # print(f'alpha = {alpha}')\n",
        "        x = x + alpha * p\n",
        "        # print(f'x = {x}')\n",
        "        r = r - alpha *Ap\n",
        "        # print(f'r_trans = {r.transpose()}, r = {r}')\n",
        "        rsnew = np.matmul(r.transpose(), r)\n",
        "        # print(f'rsnew = {rsnew}')\n",
        "        if m.sqrt(rsnew) < 1e-10:\n",
        "              break\n",
        "        \n",
        "        p = r + (rsnew / rsold) * p\n",
        "        rsold = rsnew\n",
        "    \n",
        "    return (x, list_x)"
      ],
      "execution_count": 218,
      "outputs": []
    },
    {
      "cell_type": "code",
      "metadata": {
        "id": "1Z-HZDlT3Mgo",
        "colab": {
          "base_uri": "https://localhost:8080/",
          "height": 634
        },
        "outputId": "bb970871-9296-42af-acf8-df761e3e4a56"
      },
      "source": [
        "A = np.array([[4, 1], [1, 3]])\n",
        "print_matrix(A)\n",
        "b = np.array([[1], [2]])\n",
        "print_matrix(b)\n",
        "z = np.matmul(A, b)\n",
        "# print_matrix(z)\n",
        "x0 = np.array([[2], [1]])\n",
        "print_matrix(x0)\n",
        "xf, list_x = conj_gradient_descent(A, b, x0)\n",
        "print_matrix(xf)\n",
        "print(list_x)\n",
        "\n",
        "vector_x = []\n",
        "\n",
        "for i in list_x:\n",
        "  sub_vec_x = []\n",
        "  for j in i:\n",
        "    sub_vec_x.append(j[0])\n",
        "  vector_x.append(sub_vec_x)\n",
        "\n",
        "print(vector_x, type(vector_x))\n",
        "\n",
        "v = np.array(vector_x)\n",
        "print(v, type(v))\n",
        "origin = []\n",
        "origin.append([0, 0])\n",
        "for i in range(1, len(vector_x)):\n",
        "  origin.append(vector_x[i-1])\n",
        "\n",
        "origin = np.array(origin)\n",
        "print(origin, type(origin))\n",
        "\n",
        "plt.quiver(*origin, v[:,0], v[:,1], color=['r','b','g'], scale=31)\n",
        "plt.show()"
      ],
      "execution_count": 299,
      "outputs": [
        {
          "output_type": "stream",
          "name": "stdout",
          "text": [
            "A = [[4 1]\n",
            " [1 3]]\n",
            "===============================\n",
            "b = [[1]\n",
            " [2]]\n",
            "===============================\n",
            "x0 = [[2]\n",
            " [1]]\n",
            "===============================\n",
            "xf = [[0.09090909]\n",
            " [0.63636364]]\n",
            "===============================\n",
            "[array([[2],\n",
            "       [1]]), array([[0.23564955],\n",
            "       [0.33836858]])]\n",
            "[[2, 1], [0.2356495468277946, 0.33836858006042303]] <class 'list'>\n",
            "[[2.         1.        ]\n",
            " [0.23564955 0.33836858]] <class 'numpy.ndarray'>\n",
            "[[0 0]\n",
            " [2 1]] <class 'numpy.ndarray'>\n"
          ]
        },
        {
          "output_type": "display_data",
          "data": {
            "image/png": "[encoded data removed]",
            "text/plain": [
              "<Figure size 432x288 with 1 Axes>"
            ]
          },
          "metadata": {
            "needs_background": "light"
          }
        }
      ]
    },
    {
      "cell_type": "code",
      "metadata": {
        "id": "P40bJev55Zag"
      },
      "source": [
        "def print_matrix(m):\n",
        "  callers_local_vars = ins.currentframe().f_back.f_locals.items()\n",
        "  varName = [var_name for var_name, var_val in callers_local_vars if var_val is m]\n",
        "  print(f'{varName[0]} = {m}\\n===============================')"
      ],
      "execution_count": 156,
      "outputs": []
    }
  ]
}